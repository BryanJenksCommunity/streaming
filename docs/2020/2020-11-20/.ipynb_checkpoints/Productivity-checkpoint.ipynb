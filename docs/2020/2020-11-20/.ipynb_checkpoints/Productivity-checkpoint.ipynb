{
 "cells": [
  {
   "cell_type": "markdown",
   "metadata": {},
   "source": [
    "# Analysis of Exactly How Lazy I Am\n",
    "\n",
    "Data is a CSV titled _clocktime.csv_ \n",
    "\n",
    "## Data Dictionary\n",
    "\n",
    "---\n",
    "\n",
    "| Data Point | Definition                     |\n",
    "|:---------- |:------------------------------ |\n",
    "| date       | The date of the record         |\n",
    "| Lhour      | Hours of productive time       |\n",
    "| Lmin       | Minutes of productive time     |\n",
    "| Lsec       | Seconds of productive time     |\n",
    "| Rhour      | Hours of Non-productive time   |\n",
    "| Rmin       | Minutes of Non-productive time |\n",
    "| Rsec       | Seconds of Non-productive time |\n",
    "\n",
    "---\n",
    "\n",
    "| Productive Time | Non-Productive Time |\n",
    "| --------------- | ------------------- |\n",
    "| Working         | Procrastinating     |\n",
    "| Studying        | Off-Task            |\n",
    "| On-Task         | Leisure Time        |\n",
    "\n",
    "---\n",
    "\n",
    "## Import Necesaary Packages"
   ]
  },
  {
   "cell_type": "code",
   "execution_count": 1,
   "metadata": {},
   "outputs": [],
   "source": [
    "import pandas as pd\n",
    "import matplotlib.pyplot as plt"
   ]
  },
  {
   "cell_type": "markdown",
   "metadata": {
    "pycharm": {
     "name": "#%%\n"
    }
   },
   "source": [
    "## Begin Data Import and Munging\n",
    "\n",
    "\n",
    "`date` is stored as a string and needs to be parsed for a time series\n",
    "All other fields need to be converted to seconds for aggregation and proportion comparison"
   ]
  },
  {
   "cell_type": "code",
   "execution_count": 11,
   "metadata": {
    "pycharm": {
     "name": "#%%\n"
    }
   },
   "outputs": [],
   "source": [
    "# Import the data into a data frame with pandas\n",
    "df = pd.read_csv('clocktime.csv')"
   ]
  },
  {
   "cell_type": "code",
   "execution_count": 12,
   "metadata": {},
   "outputs": [
    {
     "data": {
      "text/html": [
       "<div>\n",
       "<style scoped>\n",
       "    .dataframe tbody tr th:only-of-type {\n",
       "        vertical-align: middle;\n",
       "    }\n",
       "\n",
       "    .dataframe tbody tr th {\n",
       "        vertical-align: top;\n",
       "    }\n",
       "\n",
       "    .dataframe thead th {\n",
       "        text-align: right;\n",
       "    }\n",
       "</style>\n",
       "<table border=\"1\" class=\"dataframe\">\n",
       "  <thead>\n",
       "    <tr style=\"text-align: right;\">\n",
       "      <th></th>\n",
       "      <th>date</th>\n",
       "      <th>Lhour</th>\n",
       "      <th>Lmin</th>\n",
       "      <th>Lsec</th>\n",
       "      <th>Rhour</th>\n",
       "      <th>Rmin</th>\n",
       "      <th>Rsec</th>\n",
       "    </tr>\n",
       "  </thead>\n",
       "  <tbody>\n",
       "    <tr>\n",
       "      <th>0</th>\n",
       "      <td>2020-11-02</td>\n",
       "      <td>2</td>\n",
       "      <td>38</td>\n",
       "      <td>13</td>\n",
       "      <td>3</td>\n",
       "      <td>13</td>\n",
       "      <td>27</td>\n",
       "    </tr>\n",
       "    <tr>\n",
       "      <th>1</th>\n",
       "      <td>2020-11-03</td>\n",
       "      <td>4</td>\n",
       "      <td>15</td>\n",
       "      <td>2</td>\n",
       "      <td>9</td>\n",
       "      <td>59</td>\n",
       "      <td>59</td>\n",
       "    </tr>\n",
       "    <tr>\n",
       "      <th>2</th>\n",
       "      <td>2020-11-04</td>\n",
       "      <td>4</td>\n",
       "      <td>6</td>\n",
       "      <td>26</td>\n",
       "      <td>9</td>\n",
       "      <td>59</td>\n",
       "      <td>59</td>\n",
       "    </tr>\n",
       "    <tr>\n",
       "      <th>3</th>\n",
       "      <td>2020-11-05</td>\n",
       "      <td>4</td>\n",
       "      <td>36</td>\n",
       "      <td>31</td>\n",
       "      <td>12</td>\n",
       "      <td>53</td>\n",
       "      <td>52</td>\n",
       "    </tr>\n",
       "    <tr>\n",
       "      <th>4</th>\n",
       "      <td>2020-11-06</td>\n",
       "      <td>3</td>\n",
       "      <td>22</td>\n",
       "      <td>3</td>\n",
       "      <td>11</td>\n",
       "      <td>12</td>\n",
       "      <td>31</td>\n",
       "    </tr>\n",
       "    <tr>\n",
       "      <th>5</th>\n",
       "      <td>2020-11-07</td>\n",
       "      <td>6</td>\n",
       "      <td>40</td>\n",
       "      <td>57</td>\n",
       "      <td>9</td>\n",
       "      <td>59</td>\n",
       "      <td>59</td>\n",
       "    </tr>\n",
       "    <tr>\n",
       "      <th>6</th>\n",
       "      <td>2020-11-08</td>\n",
       "      <td>1</td>\n",
       "      <td>0</td>\n",
       "      <td>0</td>\n",
       "      <td>4</td>\n",
       "      <td>28</td>\n",
       "      <td>53</td>\n",
       "    </tr>\n",
       "    <tr>\n",
       "      <th>7</th>\n",
       "      <td>2020-11-09</td>\n",
       "      <td>1</td>\n",
       "      <td>44</td>\n",
       "      <td>32</td>\n",
       "      <td>14</td>\n",
       "      <td>52</td>\n",
       "      <td>103</td>\n",
       "    </tr>\n",
       "    <tr>\n",
       "      <th>8</th>\n",
       "      <td>2020-11-10</td>\n",
       "      <td>4</td>\n",
       "      <td>26</td>\n",
       "      <td>21</td>\n",
       "      <td>9</td>\n",
       "      <td>43</td>\n",
       "      <td>25</td>\n",
       "    </tr>\n",
       "    <tr>\n",
       "      <th>9</th>\n",
       "      <td>2020-11-11</td>\n",
       "      <td>1</td>\n",
       "      <td>18</td>\n",
       "      <td>4</td>\n",
       "      <td>9</td>\n",
       "      <td>45</td>\n",
       "      <td>15</td>\n",
       "    </tr>\n",
       "  </tbody>\n",
       "</table>\n",
       "</div>"
      ],
      "text/plain": [
       "         date  Lhour  Lmin  Lsec  Rhour  Rmin  Rsec\n",
       "0  2020-11-02      2    38    13      3    13    27\n",
       "1  2020-11-03      4    15     2      9    59    59\n",
       "2  2020-11-04      4     6    26      9    59    59\n",
       "3  2020-11-05      4    36    31     12    53    52\n",
       "4  2020-11-06      3    22     3     11    12    31\n",
       "5  2020-11-07      6    40    57      9    59    59\n",
       "6  2020-11-08      1     0     0      4    28    53\n",
       "7  2020-11-09      1    44    32     14    52   103\n",
       "8  2020-11-10      4    26    21      9    43    25\n",
       "9  2020-11-11      1    18     4      9    45    15"
      ]
     },
     "execution_count": 12,
     "metadata": {},
     "output_type": "execute_result"
    }
   ],
   "source": [
    "# Preview of our data\n",
    "df.head(10)"
   ]
  },
  {
   "cell_type": "code",
   "execution_count": 13,
   "metadata": {},
   "outputs": [
    {
     "name": "stdout",
     "output_type": "stream",
     "text": [
      "<class 'pandas.core.frame.DataFrame'>\n",
      "RangeIndex: 10 entries, 0 to 9\n",
      "Data columns (total 7 columns):\n",
      " #   Column  Non-Null Count  Dtype \n",
      "---  ------  --------------  ----- \n",
      " 0   date    10 non-null     object\n",
      " 1   Lhour   10 non-null     int64 \n",
      " 2   Lmin    10 non-null     int64 \n",
      " 3   Lsec    10 non-null     int64 \n",
      " 4   Rhour   10 non-null     int64 \n",
      " 5   Rmin    10 non-null     int64 \n",
      " 6   Rsec    10 non-null     int64 \n",
      "dtypes: int64(6), object(1)\n",
      "memory usage: 688.0+ bytes\n"
     ]
    }
   ],
   "source": [
    "# Get info about the data frame fields\n",
    "# This is a method so parens are needed\n",
    "# Object types are usually strings\n",
    "df.info()"
   ]
  },
  {
   "cell_type": "code",
   "execution_count": 14,
   "metadata": {},
   "outputs": [],
   "source": [
    "# Make 'date' into a datetime instead of a string\n",
    "df[\"date\"] = pd.to_datetime(df[\"date\"])\n",
    "\n",
    "# Convert Hours and Minutes to seconds for comparison\n",
    "leftTimes = (df[\"Lsec\"],df[\"Lmin\"] * 60, df[\"Lhour\"] * 3600)\n",
    "rightTimes = (df[\"Rsec\"],df[\"Rmin\"] * 60, df[\"Rhour\"] * 3600)\n",
    "\n",
    "df[\"Lsec\"] = sum(leftTimes)\n",
    "df[\"Rsec\"] = sum(rightTimes)\n",
    "\n",
    "total = (df[\"Lsec\"], df[\"Rsec\"])\n",
    "df[\"total\"] = sum(total)"
   ]
  },
  {
   "cell_type": "code",
   "execution_count": 15,
   "metadata": {},
   "outputs": [],
   "source": [
    "# Overwrite data frame\n",
    "df = df[['date','Lsec','Rsec','total']]"
   ]
  },
  {
   "cell_type": "code",
   "execution_count": 16,
   "metadata": {},
   "outputs": [],
   "source": [
    "# Get a proportion percentage data points for comparison\n",
    "df['Lpct'] = round(df['Lsec'] / df['total'] * 100, 0)\n",
    "df['Rpct'] = round(df['Rsec'] / df['total'] * 100, 0)"
   ]
  },
  {
   "cell_type": "markdown",
   "metadata": {},
   "source": [
    "## Begin Data Visualization\n",
    "\n",
    "This utilizes the `matplotlib.pyplot` module"
   ]
  },
  {
   "cell_type": "code",
   "execution_count": 17,
   "metadata": {
    "pycharm": {
     "name": "#%%\n"
    }
   },
   "outputs": [
    {
     "data": {
      "image/png": "[encoded data removed]",
      "text/plain": [
       "<Figure size 432x288 with 1 Axes>"
      ]
     },
     "metadata": {
      "needs_background": "light"
     },
     "output_type": "display_data"
    },
    {
     "data": {
      "text/plain": [
       "<AxesSubplot:>"
      ]
     },
     "execution_count": 17,
     "metadata": {},
     "output_type": "execute_result"
    },
    {
     "data": {
      "image/png": "[encoded data removed]",
      "text/plain": [
       "<Figure size 432x288 with 1 Axes>"
      ]
     },
     "metadata": {
      "needs_background": "light"
     },
     "output_type": "display_data"
    }
   ],
   "source": [
    "ind = df['date']    # the x locations for the groups\n",
    "width = 0.35       # the width of the bars: can also be len(x) sequence\n",
    "\n",
    "p1 = plt.bar(ind, df['Lpct'], width, color = 'limegreen')\n",
    "p2 = plt.bar(ind, df['Rpct'], width, color = 'red', bottom=df['Lpct'])\n",
    "\n",
    "plt.ylabel('Seconds of Productive Time')\n",
    "plt.title('How Productive Am I?')\n",
    "plt.xticks(ind, rotation=270)\n",
    "plt.legend((p1[0], p2[0]), ('Productive', 'Un-Productive'), loc = \"best\")\n",
    "\n",
    "# Data Labels for stacked bar\n",
    "for r1, r2 in zip(p1, p2):\n",
    "    h1 = r1.get_height()\n",
    "    h2 = r2.get_height()\n",
    "    plt.text(r1.get_x() + r1.get_width() / 2., h1 / 2., \"%d\" % h1, ha=\"center\", va=\"center\", color=\"white\", fontsize=10, fontweight=\"bold\")\n",
    "    plt.text(r2.get_x() + r2.get_width() / 2., h1 + h2 / 2., \"%d\" % h2, ha=\"center\", va=\"center\", color=\"white\", fontsize=10, fontweight=\"bold\")\n",
    "\n",
    "\n",
    "plt.show()\n",
    "\n",
    "# Line Chart\n",
    "df[['Lpct','Rpct']].plot()"
   ]
  }
 ],
 "metadata": {
  "kernelspec": {
   "display_name": "Python 3",
   "language": "python",
   "name": "python3"
  },
  "language_info": {
   "codemirror_mode": {
    "name": "ipython",
    "version": 3
   },
   "file_extension": ".py",
   "mimetype": "text/x-python",
   "name": "python",
   "nbconvert_exporter": "python",
   "pygments_lexer": "ipython3",
   "version": "3.9.0"
  },
  "toc-autonumbering": true,
  "toc-showcode": false,
  "toc-showmarkdowntxt": false,
  "toc-showtags": false
 },
 "nbformat": 4,
 "nbformat_minor": 4
}
